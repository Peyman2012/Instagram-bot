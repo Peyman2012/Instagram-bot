{
 "cells": [
  {
   "cell_type": "markdown",
   "id": "0cd79bce",
   "metadata": {},
   "source": [
    "# Installation\n",
    "First, you must have the latest version of Python installed on your system. Then, for Linux and Windows users, you must run the following command in the terminal and command line."
   ]
  },
  {
   "cell_type": "code",
   "execution_count": null,
   "id": "c6a7c636",
   "metadata": {},
   "outputs": [],
   "source": [
    "pip install instapy"
   ]
  },
  {
   "cell_type": "markdown",
   "id": "2dba762a",
   "metadata": {},
   "source": [
    "# In this section, we will see how to login to Instagram account using InstaPy"
   ]
  },
  {
   "cell_type": "code",
   "execution_count": null,
   "id": "db4ef2a3",
   "metadata": {},
   "outputs": [],
   "source": [
    "from instapy import InstaPy\n",
    "\n",
    "instagram_username = ' '   #username page\n",
    "instagram_password = ' '   #password page\n",
    "\n",
    "#account instagram login  \n",
    "session = InstaPy(username=instagram_username, password=instagram_password) \n",
    "session.login()"
   ]
  },
  {
   "cell_type": "markdown",
   "id": "a72625e3",
   "metadata": {},
   "source": [
    "# Like with tag on Instagram\n",
    "This method receives a list of strings as the first variable, and the second variable is a number that limits the number of likes. By running this piece of code, the robot will search for the tags you have given in the first list on Instagram and will like the second variable number of photos or videos."
   ]
  },
  {
   "cell_type": "code",
   "execution_count": null,
   "id": "0c019ceb",
   "metadata": {},
   "outputs": [],
   "source": [
    "#like with tag\n",
    "session.like_by_tags([\"mahsaamini\", \"programming\"], amount=20)"
   ]
  },
  {
   "cell_type": "markdown",
   "id": "ab37df6d",
   "metadata": {},
   "source": [
    "# Follow with tags on Instagram\n",
    "This module has methods to follow users based on the filters you set. The first method is to follow with tags. In fact, this method is useful when you want to follow users with specific interests. This method receives two parameters, the first is a list of strings (each string is a tag) and the second is to limit the number of followers."
   ]
  },
  {
   "cell_type": "code",
   "execution_count": null,
   "id": "307fe939",
   "metadata": {},
   "outputs": [],
   "source": [
    "#follow with tag \n",
    "session.follow_by_tags(['hashtag1', 'hashtag2', 'hashtag3'], amount=5)"
   ]
  },
  {
   "cell_type": "markdown",
   "id": "22957558",
   "metadata": {},
   "source": [
    "# Following with list in Instagram bot\n",
    "This method takes 4 parameters as input. A list of strings that stores user names. The second parameter is time. The third and fourth parameters are sleep_delay and interact. Intract means that it only tries to follow the user once (if its value is false) and sleep_delay is to define a pause time after several follows."
   ]
  },
  {
   "cell_type": "code",
   "execution_count": null,
   "id": "a7cbfc65",
   "metadata": {},
   "outputs": [],
   "source": [
    "#follow with list\n",
    "session.follow_by_list(['hardy', 'keenu'], times=1, sleep_delay=600, interact=False)"
   ]
  },
  {
   "cell_type": "markdown",
   "id": "3fc69248",
   "metadata": {},
   "source": [
    "# Following other people's followers on Instagram\n",
    "This method also takes 4 parameters as input. The first parameter is a list of strings, which are actually the usernames of the people whose followers you want to follow. The second parameter is to limit the number of Instagram bot followers. The third parameter determines whether it is random or not, and the last parameter has a state similar to the one described above."
   ]
  },
  {
   "cell_type": "code",
   "execution_count": null,
   "id": "91f03013",
   "metadata": {},
   "outputs": [],
   "source": [
    "#follow with followers\n",
    "session.follow_user_followers(['follower1', 'follower2'], amount=10, randomize=False, interact=True)\n"
   ]
  },
  {
   "cell_type": "markdown",
   "id": "8c00e028",
   "metadata": {},
   "source": [
    "# Unfollowing with the Instagram bot\n",
    "In the previous section, we mentioned several ways to follow people. Now it's time to know how to unfollow people in different ways. The following code snippet is used for unfollowing, which I think is self-explanatory"
   ]
  },
  {
   "cell_type": "code",
   "execution_count": null,
   "id": "ae8fef2e",
   "metadata": {},
   "outputs": [],
   "source": [
    "#unfollow\n",
    "custom_list = [\"user_1\", \"user_2\", \"user_3\"]\n",
    "session.unfollow_users(amount=10, customList=(True, custom_list, \"all\"), style=\"RANDOM\", unfollow_after=55*60*60, sleep_delay=600)"
   ]
  },
  {
   "cell_type": "markdown",
   "id": "6e2c35e1",
   "metadata": {},
   "source": [
    "# Unfollowing those who did not follow you\n",
    "This method is probably the most useful part for you. Using this method, you can unfollow people you have followed and they did not follow back. This method is also completely understandable and does not need an explanation."
   ]
  },
  {
   "cell_type": "code",
   "execution_count": null,
   "id": "913efb59",
   "metadata": {},
   "outputs": [],
   "source": [
    "#unfollow \n",
    "session.unfollow_users(amount=20, nonFollowers=True, style=\"RANDOM\", unfollow_after=42*60*60, sleep_delay=600)"
   ]
  },
  {
   "cell_type": "code",
   "execution_count": null,
   "id": "ddb0dff5",
   "metadata": {},
   "outputs": [],
   "source": []
  }
 ],
 "metadata": {
  "kernelspec": {
   "display_name": "Python 3 (ipykernel)",
   "language": "python",
   "name": "python3"
  },
  "language_info": {
   "codemirror_mode": {
    "name": "ipython",
    "version": 3
   },
   "file_extension": ".py",
   "mimetype": "text/x-python",
   "name": "python",
   "nbconvert_exporter": "python",
   "pygments_lexer": "ipython3",
   "version": "3.9.12"
  }
 },
 "nbformat": 4,
 "nbformat_minor": 5
}
